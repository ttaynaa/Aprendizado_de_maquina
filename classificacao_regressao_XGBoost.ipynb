{
 "cells": [
  {
   "attachments": {},
   "cell_type": "markdown",
   "metadata": {},
   "source": [
    "# Classificação e Regressão com XGBoost"
   ]
  },
  {
   "attachments": {},
   "cell_type": "markdown",
   "metadata": {},
   "source": [
    "### Importando as bibliotecas que vão ser usadas "
   ]
  },
  {
   "attachments": {},
   "cell_type": "markdown",
   "metadata": {},
   "source": [
    "instalações necessarias, obs: se já estiver instalados não é necessario fazer a instalação novamente "
   ]
  },
  {
   "cell_type": "code",
   "execution_count": null,
   "metadata": {},
   "outputs": [],
   "source": [
    "#!pip install xgboost"
   ]
  },
  {
   "cell_type": "code",
   "execution_count": null,
   "metadata": {},
   "outputs": [],
   "source": [
    "#!pip install notebook pandas seaborn scikit-Learn "
   ]
  },
  {
   "cell_type": "code",
   "execution_count": 12,
   "metadata": {},
   "outputs": [],
   "source": [
    "# Importando as bibliotecas\n",
    "\n",
    "import psycopg2 # chamando biblioteca \n",
    "import datetime\n",
    "\n",
    "# Bibliotecas estatísticas\n",
    "import statistics\n",
    "import math\n",
    "from scipy import stats\n",
    "from collections import Counter\n",
    "\n",
    "# Bibliotecas \n",
    "import seaborn as sns\n",
    "import plotly.express as px  #gráficos interativos \n",
    "\n",
    "\n",
    "# Usado para o processamento de arrays e matrizes\n",
    "import numpy as np \n",
    "\n",
    "# Usado para criar e manipular dataframes\n",
    "import pandas as pd \n",
    "\n",
    "# Usado para criar gráficos\n",
    "import matplotlib.pyplot as plt #plotando gráficos 2d\n",
    "\n",
    "# Usado para tornar a ordem dos dados aleatória\n",
    "from sklearn.utils import shuffle \n",
    "\n",
    "\n",
    "\n",
    "#bibliotecas \n",
    "import pandas as pd \n",
    "import numpy as np \n",
    "from sklearn.model_selection import train_test_split\n",
    "from sklearn import metrics\n",
    "import xgboost as xgb\n"
   ]
  },
  {
   "cell_type": "markdown",
   "metadata": {},
   "source": [
    "## Carregando os dados para regressão e classificação \n",
    "O foco vai ser utilizar o XGBoost mais que nos problemas  de regressão e classificação em si. "
   ]
  },
  {
   "cell_type": "code",
   "execution_count": 7,
   "metadata": {},
   "outputs": [
    {
     "data": {
      "text/html": [
       "<div>\n",
       "<style scoped>\n",
       "    .dataframe tbody tr th:only-of-type {\n",
       "        vertical-align: middle;\n",
       "    }\n",
       "\n",
       "    .dataframe tbody tr th {\n",
       "        vertical-align: top;\n",
       "    }\n",
       "\n",
       "    .dataframe thead th {\n",
       "        text-align: right;\n",
       "    }\n",
       "</style>\n",
       "<table border=\"1\" class=\"dataframe\">\n",
       "  <thead>\n",
       "    <tr style=\"text-align: right;\">\n",
       "      <th></th>\n",
       "      <th>sepal_length</th>\n",
       "      <th>sepal_width</th>\n",
       "      <th>petal_length</th>\n",
       "      <th>petal_width</th>\n",
       "      <th>species</th>\n",
       "    </tr>\n",
       "  </thead>\n",
       "  <tbody>\n",
       "    <tr>\n",
       "      <th>0</th>\n",
       "      <td>5.1</td>\n",
       "      <td>3.5</td>\n",
       "      <td>1.4</td>\n",
       "      <td>0.2</td>\n",
       "      <td>setosa</td>\n",
       "    </tr>\n",
       "    <tr>\n",
       "      <th>1</th>\n",
       "      <td>4.9</td>\n",
       "      <td>3.0</td>\n",
       "      <td>1.4</td>\n",
       "      <td>0.2</td>\n",
       "      <td>setosa</td>\n",
       "    </tr>\n",
       "    <tr>\n",
       "      <th>2</th>\n",
       "      <td>4.7</td>\n",
       "      <td>3.2</td>\n",
       "      <td>1.3</td>\n",
       "      <td>0.2</td>\n",
       "      <td>setosa</td>\n",
       "    </tr>\n",
       "    <tr>\n",
       "      <th>3</th>\n",
       "      <td>4.6</td>\n",
       "      <td>3.1</td>\n",
       "      <td>1.5</td>\n",
       "      <td>0.2</td>\n",
       "      <td>setosa</td>\n",
       "    </tr>\n",
       "    <tr>\n",
       "      <th>4</th>\n",
       "      <td>5.0</td>\n",
       "      <td>3.6</td>\n",
       "      <td>1.4</td>\n",
       "      <td>0.2</td>\n",
       "      <td>setosa</td>\n",
       "    </tr>\n",
       "  </tbody>\n",
       "</table>\n",
       "</div>"
      ],
      "text/plain": [
       "   sepal_length  sepal_width  petal_length  petal_width species\n",
       "0           5.1          3.5           1.4          0.2  setosa\n",
       "1           4.9          3.0           1.4          0.2  setosa\n",
       "2           4.7          3.2           1.3          0.2  setosa\n",
       "3           4.6          3.1           1.5          0.2  setosa\n",
       "4           5.0          3.6           1.4          0.2  setosa"
      ]
     },
     "execution_count": 7,
     "metadata": {},
     "output_type": "execute_result"
    }
   ],
   "source": [
    "import seaborn as sns\n",
    "\n",
    "df_iris = sns.load_dataset('iris') #carregando dados\n",
    "df_iris.head()"
   ]
  },
  {
   "cell_type": "code",
   "execution_count": 8,
   "metadata": {},
   "outputs": [
    {
     "data": {
      "text/plain": [
       "array(['setosa', 'versicolor', 'virginica'], dtype=object)"
      ]
     },
     "execution_count": 8,
     "metadata": {},
     "output_type": "execute_result"
    }
   ],
   "source": [
    "df_iris.shape # número de observações e números de variáveis \n",
    "\n",
    "df_iris['species'].unique() #mostra as especeis de orquidias "
   ]
  },
  {
   "cell_type": "code",
   "execution_count": 9,
   "metadata": {},
   "outputs": [
    {
     "data": {
      "text/plain": [
       "array([0, 1, 2], dtype=int64)"
      ]
     },
     "execution_count": 9,
     "metadata": {},
     "output_type": "execute_result"
    }
   ],
   "source": [
    "#codificação das especeis de orquidias \n",
    "df_iris['species'] = df_iris['species'].map({'setosa': 0, 'versicolor': 1, 'virginica': 2})\n",
    "df_iris['species'].unique() #visualiza a codificação "
   ]
  },
  {
   "cell_type": "code",
   "execution_count": 13,
   "metadata": {},
   "outputs": [],
   "source": [
    "#Separando as bases \n",
    "\n",
    "x_iris = df_iris.drop(['species'],axis=1)\n",
    "y_iris = df_iris['species']\n",
    "\n",
    "#sepando em treino e teste \n",
    "x_iris_treino, x_iris_teste, y_iris_treino,y_iris_teste = train_test_split(x_iris, y_iris ,random_state=1)"
   ]
  },
  {
   "cell_type": "code",
   "execution_count": 20,
   "metadata": {},
   "outputs": [
    {
     "data": {
      "text/plain": [
       "xgboost.sklearn.XGBClassifier"
      ]
     },
     "execution_count": 20,
     "metadata": {},
     "output_type": "execute_result"
    }
   ],
   "source": [
    "# Criando o objeto com o classificador XGBoost\n",
    "classificador_xgb = xgb.XGBClassifier() #não foi mudando nenhum hiperparametro \n",
    "\n",
    "type(classificador_xgb) #verificando o tipo de objeto que foi criado "
   ]
  },
  {
   "attachments": {},
   "cell_type": "markdown",
   "metadata": {},
   "source": [
    "### Compatibilidade com scikit-Learn\n",
    "\n",
    "-> o XGBoosté uma subclasse de sklearn.Base.classifierMixin, ou seja, é compativel com sklearn. É possível então utilizar o arcabouço do scikit-learn, como métodos de CV, pipelines, etc...."
   ]
  },
  {
   "cell_type": "code",
   "execution_count": 21,
   "metadata": {},
   "outputs": [
    {
     "name": "stdout",
     "output_type": "stream",
     "text": [
      "resultado_cv: [0.95652174 0.95652174 0.95454545 1.         0.86363636]\n",
      "Acurácia: 94.62450592885375\n"
     ]
    }
   ],
   "source": [
    "from sklearn.model_selection import cross_val_score # calcula um Cross Validation, validação cruzada\n",
    "\n",
    "# cross_val_score serve para comparar modelos, dar uma ideia de como o modelo está performando \n",
    "\n",
    "\n",
    "# criando \n",
    "resultado_cv = cross_val_score(classificador_xgb, x_iris_treino, y_iris_treino)\n",
    "print(\"resultado_cv:\",resultado_cv)\n",
    "\n",
    "#calculndo Acurácia \n",
    "acuracia_cv = resultado_cv.mean()\n",
    "print(\"Acurácia:\",acuracia_cv*100) #em porcentagem \n"
   ]
  },
  {
   "attachments": {},
   "cell_type": "markdown",
   "metadata": {},
   "source": [
    "<a> Tunagem </a>\n",
    "\n",
    "o  XGBoost  permite alteração de vários hiperparâmetros, como learning rate, altura máxima das árvores, quantidade de folhas nas árvores, número de árvores (estimadores), etc...\n",
    "\n",
    " Nosso foco não é em tunagem de hiperparâmetros, mas vamos muudar somente a altura máxima.\n",
    "\n",
    " Vamos aproveitar também  para mostrar uma característica interessante de XGBoost. Ele permite alterar a implementação do classificador. Podemos, por exemplo. Utilizar florest (bagging) ao inves de algoritmos de boosting! vamos ver se melhora o resultado \n",
    "\n",
    " -> outro hiperparâmetro importante é a função de erro utilizada para otimização: objective\n",
    "\n",
    " como o padrão para classificação é \"binary:logistc\" e para regressão \"reg:squarederror\". Mas quando passamos uma variável target com mais de duas classes ele muda automaticamente para \"multi:softprob\". vamos ver na prática!"
   ]
  },
  {
   "cell_type": "code",
   "execution_count": 24,
   "metadata": {},
   "outputs": [
    {
     "name": "stdout",
     "output_type": "stream",
     "text": [
      "antes:  binary:logistic\n",
      "depois muda automatico: multi:softprob\n"
     ]
    }
   ],
   "source": [
    "clf = xgb.XGBClassifier() #sem nada \n",
    "print(\"antes: \", clf.objective)\n",
    "\n",
    "\n",
    "clf = xgb.XGBClassifier().fit(x_iris_treino,y_iris_treino)\n",
    "print(\"depois muda automatico:\",clf.objective)"
   ]
  },
  {
   "attachments": {},
   "cell_type": "markdown",
   "metadata": {},
   "source": [
    "Poderiamos também utilizar a multi:softmaz, mas esta esta somente retorna a classe com maior probabilidade, então  multi:softprob entrega as probabilidades de todas as classes para cada predição "
   ]
  },
  {
   "cell_type": "code",
   "execution_count": 25,
   "metadata": {},
   "outputs": [
    {
     "data": {
      "text/plain": [
       "95.53359683794467"
      ]
     },
     "execution_count": 25,
     "metadata": {},
     "output_type": "execute_result"
    }
   ],
   "source": [
    "# max_depth altua maxima das arvores de boosting, elas podem ter no máximo altura de 2 da raiz até as folhas \n",
    "\n",
    "classificador_xgb_tunado = xgb.XGBClassifier(max_depth = 2) \n",
    "\n",
    "100* cross_val_score(classificador_xgb_tunado,x_iris_treino,y_iris_treino).mean()"
   ]
  },
  {
   "attachments": {},
   "cell_type": "markdown",
   "metadata": {},
   "source": [
    "## Tipos de classificador \n",
    "\n",
    "'gbtree','gblinear', ou 'dart'(gbtree e dart usam modelos baseados em árvore enquanto gblinear usa funções lineares)"
   ]
  },
  {
   "cell_type": "code",
   "execution_count": 31,
   "metadata": {},
   "outputs": [
    {
     "name": "stdout",
     "output_type": "stream",
     "text": [
      " Acurácia usando dart: 94.62450592885375\n",
      "Acurácia usando gblinear: 96.40316205533598\n"
     ]
    }
   ],
   "source": [
    "#usando o classificador dart\n",
    "classificador_xgb_dart = xgb.XGBClassifier(booster = 'dart')\n",
    "dart = 100* cross_val_score(classificador_xgb_dart,x_iris_treino,y_iris_treino).mean()\n",
    "print(\" Acurácia usando dart:\", dart)\n",
    "\n",
    "#usando o classificador gblinear\n",
    "classificador_xgb_gblinear = xgb.XGBClassifier(booster = 'gblinear')\n",
    "gblinear = 100* cross_val_score(classificador_xgb_gblinear,x_iris_treino,y_iris_treino).mean()\n",
    "print(\"Acurácia usando gblinear:\", gblinear)"
   ]
  },
  {
   "attachments": {},
   "cell_type": "markdown",
   "metadata": {},
   "source": [
    "# Classificando com o modelo Campeão 🏆"
   ]
  },
  {
   "cell_type": "code",
   "execution_count": 33,
   "metadata": {},
   "outputs": [
    {
     "data": {
      "text/plain": [
       "XGBClassifier(base_score=None, booster='gblinear', callbacks=None,\n",
       "              colsample_bylevel=None, colsample_bynode=None,\n",
       "              colsample_bytree=None, early_stopping_rounds=None,\n",
       "              enable_categorical=False, eval_metric=None, feature_types=None,\n",
       "              gamma=None, gpu_id=None, grow_policy=None, importance_type=None,\n",
       "              interaction_constraints=None, learning_rate=None, max_bin=None,\n",
       "              max_cat_threshold=None, max_cat_to_onehot=None,\n",
       "              max_delta_step=None, max_depth=None, max_leaves=None,\n",
       "              min_child_weight=None, missing=nan, monotone_constraints=None,\n",
       "              n_estimators=100, n_jobs=None, num_parallel_tree=None,\n",
       "              objective='multi:softprob', predictor=None, ...)"
      ]
     },
     "execution_count": 33,
     "metadata": {},
     "output_type": "execute_result"
    }
   ],
   "source": [
    "#com o melhor modelo, podemos utilizar a base toda de treino \n",
    "classificador_campeao = classificador_xgb_gblinear\n",
    "\n",
    "classificador_campeao.fit(x_iris_treino,y_iris_treino)"
   ]
  },
  {
   "attachments": {},
   "cell_type": "markdown",
   "metadata": {},
   "source": [
    " obs: só depois de ter um modelo campeão, treinei na base de treino. agora posso fazer predições na base de teste "
   ]
  },
  {
   "cell_type": "code",
   "execution_count": 34,
   "metadata": {},
   "outputs": [
    {
     "data": {
      "text/plain": [
       "array([0, 1, 1, 0, 2, 1, 2, 0, 0, 2, 1, 0, 2, 1, 1, 0, 1, 1, 0, 0, 1, 1,\n",
       "       2, 0, 2, 1, 0, 0, 1, 2, 1, 2, 1, 2, 2, 0, 1, 0], dtype=int64)"
      ]
     },
     "execution_count": 34,
     "metadata": {},
     "output_type": "execute_result"
    }
   ],
   "source": [
    "# podemos realizar a predição da base de teste!\n",
    "\n",
    "predicoes_iris = classificador_campeao.predict(x_iris_teste)\n",
    "predicoes_iris"
   ]
  },
  {
   "cell_type": "code",
   "execution_count": 35,
   "metadata": {},
   "outputs": [
    {
     "data": {
      "text/plain": [
       "14     0\n",
       "98     1\n",
       "75     1\n",
       "16     0\n",
       "131    2\n",
       "56     1\n",
       "141    2\n",
       "44     0\n",
       "29     0\n",
       "120    2\n",
       "94     1\n",
       "5      0\n",
       "102    2\n",
       "51     1\n",
       "78     1\n",
       "42     0\n",
       "92     1\n",
       "66     1\n",
       "31     0\n",
       "35     0\n",
       "90     1\n",
       "84     1\n",
       "77     1\n",
       "40     0\n",
       "125    2\n",
       "99     1\n",
       "33     0\n",
       "19     0\n",
       "73     1\n",
       "146    2\n",
       "91     1\n",
       "135    2\n",
       "69     1\n",
       "128    2\n",
       "114    2\n",
       "48     0\n",
       "53     1\n",
       "28     0\n",
       "Name: species, dtype: int64"
      ]
     },
     "execution_count": 35,
     "metadata": {},
     "output_type": "execute_result"
    }
   ],
   "source": [
    "y_iris_teste #veriicado como ta ficando essa classificação "
   ]
  },
  {
   "cell_type": "code",
   "execution_count": 41,
   "metadata": {},
   "outputs": [
    {
     "name": "stdout",
     "output_type": "stream",
     "text": [
      "acertos: 37\n",
      "tamanho da base de teste: 38\n",
      "acuracia: 97.36842105263158\n",
      "\n",
      " verificando a qualidade do modelo: \n",
      "               precision    recall  f1-score   support\n",
      "\n",
      "           0       1.00      1.00      1.00        13\n",
      "           1       1.00      0.94      0.97        16\n",
      "           2       0.90      1.00      0.95         9\n",
      "\n",
      "    accuracy                           0.97        38\n",
      "   macro avg       0.97      0.98      0.97        38\n",
      "weighted avg       0.98      0.97      0.97        38\n",
      "\n",
      "Matriz de confusão: \n",
      " [[13  0  0]\n",
      " [ 0 15  1]\n",
      " [ 0  0  9]]\n"
     ]
    }
   ],
   "source": [
    "# Calculando o número de acertos \n",
    "acertos = (predicoes_iris == y_iris_teste).sum()\n",
    "print(\"acertos:\",acertos)\n",
    "\n",
    "# Mas qual o tamanho da base de teste ?\n",
    "total_observacoes = len(y_iris_teste)\n",
    "print(\"tamanho da base de teste:\", total_observacoes) \n",
    "\n",
    "\n",
    "# Mas qual o tamanho da base de teste ?\n",
    "print(\"acuracia:\", 100* (acertos/total_observacoes))\n",
    "\n",
    "#verificando a qualidade do modelo (calcula de forma correta)\n",
    "from sklearn.metrics import classification_report #verifica a qualidade do  modelo \n",
    "print('\\n verificando a qualidade do modelo: \\n', classification_report(y_iris_teste, predicoes_iris)) \n",
    "\n",
    "# Gerando a matriz de confusão do modelo \n",
    "from sklearn.metrics import confusion_matrix #gera a matriz de confusão do modelo\n",
    "print('Matriz de confusão: \\n',confusion_matrix(y_iris_teste, predicoes_iris))"
   ]
  },
  {
   "attachments": {},
   "cell_type": "markdown",
   "metadata": {},
   "source": [
    "# REGRESSÃO \n",
    "\n",
    "similar ao codigo anterior, a unica mudança vai ser de XGBClassifier para XGBBegressor"
   ]
  },
  {
   "cell_type": "code",
   "execution_count": 44,
   "metadata": {},
   "outputs": [
    {
     "data": {
      "text/html": [
       "<div>\n",
       "<style scoped>\n",
       "    .dataframe tbody tr th:only-of-type {\n",
       "        vertical-align: middle;\n",
       "    }\n",
       "\n",
       "    .dataframe tbody tr th {\n",
       "        vertical-align: top;\n",
       "    }\n",
       "\n",
       "    .dataframe thead th {\n",
       "        text-align: right;\n",
       "    }\n",
       "</style>\n",
       "<table border=\"1\" class=\"dataframe\">\n",
       "  <thead>\n",
       "    <tr style=\"text-align: right;\">\n",
       "      <th></th>\n",
       "      <th>mpg</th>\n",
       "      <th>cylinders</th>\n",
       "      <th>displacement</th>\n",
       "      <th>horsepower</th>\n",
       "      <th>weight</th>\n",
       "      <th>acceleration</th>\n",
       "      <th>model_year</th>\n",
       "      <th>origin</th>\n",
       "      <th>name</th>\n",
       "    </tr>\n",
       "  </thead>\n",
       "  <tbody>\n",
       "    <tr>\n",
       "      <th>0</th>\n",
       "      <td>18.0</td>\n",
       "      <td>8</td>\n",
       "      <td>307.0</td>\n",
       "      <td>130.0</td>\n",
       "      <td>3504</td>\n",
       "      <td>12.0</td>\n",
       "      <td>70</td>\n",
       "      <td>usa</td>\n",
       "      <td>chevrolet chevelle malibu</td>\n",
       "    </tr>\n",
       "    <tr>\n",
       "      <th>1</th>\n",
       "      <td>15.0</td>\n",
       "      <td>8</td>\n",
       "      <td>350.0</td>\n",
       "      <td>165.0</td>\n",
       "      <td>3693</td>\n",
       "      <td>11.5</td>\n",
       "      <td>70</td>\n",
       "      <td>usa</td>\n",
       "      <td>buick skylark 320</td>\n",
       "    </tr>\n",
       "    <tr>\n",
       "      <th>2</th>\n",
       "      <td>18.0</td>\n",
       "      <td>8</td>\n",
       "      <td>318.0</td>\n",
       "      <td>150.0</td>\n",
       "      <td>3436</td>\n",
       "      <td>11.0</td>\n",
       "      <td>70</td>\n",
       "      <td>usa</td>\n",
       "      <td>plymouth satellite</td>\n",
       "    </tr>\n",
       "    <tr>\n",
       "      <th>3</th>\n",
       "      <td>16.0</td>\n",
       "      <td>8</td>\n",
       "      <td>304.0</td>\n",
       "      <td>150.0</td>\n",
       "      <td>3433</td>\n",
       "      <td>12.0</td>\n",
       "      <td>70</td>\n",
       "      <td>usa</td>\n",
       "      <td>amc rebel sst</td>\n",
       "    </tr>\n",
       "    <tr>\n",
       "      <th>4</th>\n",
       "      <td>17.0</td>\n",
       "      <td>8</td>\n",
       "      <td>302.0</td>\n",
       "      <td>140.0</td>\n",
       "      <td>3449</td>\n",
       "      <td>10.5</td>\n",
       "      <td>70</td>\n",
       "      <td>usa</td>\n",
       "      <td>ford torino</td>\n",
       "    </tr>\n",
       "  </tbody>\n",
       "</table>\n",
       "</div>"
      ],
      "text/plain": [
       "    mpg  cylinders  displacement  horsepower  weight  acceleration  \\\n",
       "0  18.0          8         307.0       130.0    3504          12.0   \n",
       "1  15.0          8         350.0       165.0    3693          11.5   \n",
       "2  18.0          8         318.0       150.0    3436          11.0   \n",
       "3  16.0          8         304.0       150.0    3433          12.0   \n",
       "4  17.0          8         302.0       140.0    3449          10.5   \n",
       "\n",
       "   model_year origin                       name  \n",
       "0          70    usa  chevrolet chevelle malibu  \n",
       "1          70    usa          buick skylark 320  \n",
       "2          70    usa         plymouth satellite  \n",
       "3          70    usa              amc rebel sst  \n",
       "4          70    usa                ford torino  "
      ]
     },
     "execution_count": 44,
     "metadata": {},
     "output_type": "execute_result"
    }
   ],
   "source": [
    "# vamos tentar prever o consumo dos carros a partir de suas features \n",
    "df_mpg = sns.load_dataset('mpg')\n",
    "df_mpg.head()"
   ]
  },
  {
   "cell_type": "code",
   "execution_count": 45,
   "metadata": {},
   "outputs": [
    {
     "data": {
      "text/plain": [
       "(398, 9)"
      ]
     },
     "execution_count": 45,
     "metadata": {},
     "output_type": "execute_result"
    }
   ],
   "source": [
    "df_mpg.shape"
   ]
  },
  {
   "cell_type": "code",
   "execution_count": 46,
   "metadata": {},
   "outputs": [
    {
     "data": {
      "text/html": [
       "<div>\n",
       "<style scoped>\n",
       "    .dataframe tbody tr th:only-of-type {\n",
       "        vertical-align: middle;\n",
       "    }\n",
       "\n",
       "    .dataframe tbody tr th {\n",
       "        vertical-align: top;\n",
       "    }\n",
       "\n",
       "    .dataframe thead th {\n",
       "        text-align: right;\n",
       "    }\n",
       "</style>\n",
       "<table border=\"1\" class=\"dataframe\">\n",
       "  <thead>\n",
       "    <tr style=\"text-align: right;\">\n",
       "      <th></th>\n",
       "      <th>mpg</th>\n",
       "      <th>cylinders</th>\n",
       "      <th>displacement</th>\n",
       "      <th>horsepower</th>\n",
       "      <th>weight</th>\n",
       "      <th>acceleration</th>\n",
       "      <th>model_year</th>\n",
       "    </tr>\n",
       "  </thead>\n",
       "  <tbody>\n",
       "    <tr>\n",
       "      <th>count</th>\n",
       "      <td>398.000000</td>\n",
       "      <td>398.000000</td>\n",
       "      <td>398.000000</td>\n",
       "      <td>392.000000</td>\n",
       "      <td>398.000000</td>\n",
       "      <td>398.000000</td>\n",
       "      <td>398.000000</td>\n",
       "    </tr>\n",
       "    <tr>\n",
       "      <th>mean</th>\n",
       "      <td>23.514573</td>\n",
       "      <td>5.454774</td>\n",
       "      <td>193.425879</td>\n",
       "      <td>104.469388</td>\n",
       "      <td>2970.424623</td>\n",
       "      <td>15.568090</td>\n",
       "      <td>76.010050</td>\n",
       "    </tr>\n",
       "    <tr>\n",
       "      <th>std</th>\n",
       "      <td>7.815984</td>\n",
       "      <td>1.701004</td>\n",
       "      <td>104.269838</td>\n",
       "      <td>38.491160</td>\n",
       "      <td>846.841774</td>\n",
       "      <td>2.757689</td>\n",
       "      <td>3.697627</td>\n",
       "    </tr>\n",
       "    <tr>\n",
       "      <th>min</th>\n",
       "      <td>9.000000</td>\n",
       "      <td>3.000000</td>\n",
       "      <td>68.000000</td>\n",
       "      <td>46.000000</td>\n",
       "      <td>1613.000000</td>\n",
       "      <td>8.000000</td>\n",
       "      <td>70.000000</td>\n",
       "    </tr>\n",
       "    <tr>\n",
       "      <th>25%</th>\n",
       "      <td>17.500000</td>\n",
       "      <td>4.000000</td>\n",
       "      <td>104.250000</td>\n",
       "      <td>75.000000</td>\n",
       "      <td>2223.750000</td>\n",
       "      <td>13.825000</td>\n",
       "      <td>73.000000</td>\n",
       "    </tr>\n",
       "    <tr>\n",
       "      <th>50%</th>\n",
       "      <td>23.000000</td>\n",
       "      <td>4.000000</td>\n",
       "      <td>148.500000</td>\n",
       "      <td>93.500000</td>\n",
       "      <td>2803.500000</td>\n",
       "      <td>15.500000</td>\n",
       "      <td>76.000000</td>\n",
       "    </tr>\n",
       "    <tr>\n",
       "      <th>75%</th>\n",
       "      <td>29.000000</td>\n",
       "      <td>8.000000</td>\n",
       "      <td>262.000000</td>\n",
       "      <td>126.000000</td>\n",
       "      <td>3608.000000</td>\n",
       "      <td>17.175000</td>\n",
       "      <td>79.000000</td>\n",
       "    </tr>\n",
       "    <tr>\n",
       "      <th>max</th>\n",
       "      <td>46.600000</td>\n",
       "      <td>8.000000</td>\n",
       "      <td>455.000000</td>\n",
       "      <td>230.000000</td>\n",
       "      <td>5140.000000</td>\n",
       "      <td>24.800000</td>\n",
       "      <td>82.000000</td>\n",
       "    </tr>\n",
       "  </tbody>\n",
       "</table>\n",
       "</div>"
      ],
      "text/plain": [
       "              mpg   cylinders  displacement  horsepower       weight  \\\n",
       "count  398.000000  398.000000    398.000000  392.000000   398.000000   \n",
       "mean    23.514573    5.454774    193.425879  104.469388  2970.424623   \n",
       "std      7.815984    1.701004    104.269838   38.491160   846.841774   \n",
       "min      9.000000    3.000000     68.000000   46.000000  1613.000000   \n",
       "25%     17.500000    4.000000    104.250000   75.000000  2223.750000   \n",
       "50%     23.000000    4.000000    148.500000   93.500000  2803.500000   \n",
       "75%     29.000000    8.000000    262.000000  126.000000  3608.000000   \n",
       "max     46.600000    8.000000    455.000000  230.000000  5140.000000   \n",
       "\n",
       "       acceleration  model_year  \n",
       "count    398.000000  398.000000  \n",
       "mean      15.568090   76.010050  \n",
       "std        2.757689    3.697627  \n",
       "min        8.000000   70.000000  \n",
       "25%       13.825000   73.000000  \n",
       "50%       15.500000   76.000000  \n",
       "75%       17.175000   79.000000  \n",
       "max       24.800000   82.000000  "
      ]
     },
     "execution_count": 46,
     "metadata": {},
     "output_type": "execute_result"
    }
   ],
   "source": [
    "df_mpg.describe()"
   ]
  },
  {
   "cell_type": "code",
   "execution_count": 48,
   "metadata": {},
   "outputs": [],
   "source": [
    "#Separando as bases \n",
    "# tirando oringin e name \n",
    "x_mpg = df_mpg.drop(['mpg','origin','name'], axis=1)\n",
    "y_mpg = df_mpg['mpg']\n",
    "\n",
    "#sepando em treino e teste \n",
    "x_mpg_treino, x_mpg_teste, y_mpg_treino,y_mpg_teste = train_test_split(x_mpg, y_mpg ,random_state=1)"
   ]
  },
  {
   "attachments": {},
   "cell_type": "markdown",
   "metadata": {},
   "source": [
    "Lembrando que existe o hiperparâmetro objective que determina a função de erro a ser utilizada para otimização para otimização. \n"
   ]
  },
  {
   "cell_type": "code",
   "execution_count": 49,
   "metadata": {},
   "outputs": [
    {
     "data": {
      "text/plain": [
       "'reg:squarederror'"
      ]
     },
     "execution_count": 49,
     "metadata": {},
     "output_type": "execute_result"
    }
   ],
   "source": [
    "# -> somente chegando o padrão para a regressão \n",
    "clf = xgb.XGBRegressor()\n",
    "clf.objective"
   ]
  },
  {
   "cell_type": "code",
   "execution_count": 59,
   "metadata": {},
   "outputs": [
    {
     "name": "stdout",
     "output_type": "stream",
     "text": [
      "media de erros modelo padrão sem tunagem de hipeparâmetros: 3.1295619740712164\n",
      "media de erros modelo com altura maxima de 2 das arvores: 3.0339315587321383\n",
      "media de erros modelo usando o regressor gblinear: 4.416539277140776\n"
     ]
    }
   ],
   "source": [
    "# modelo padrão sem tunagem de hipeparâmetros \n",
    "regressor_xgb = xgb.XGBRegressor()\n",
    "#media de erros: \n",
    "padrao = cross_val_score(regressor_xgb, x_mpg_treino, y_mpg_treino, scoring='neg_root_mean_squared_error').mean()\n",
    "print(\"media de erros modelo padrão sem tunagem de hipeparâmetros:\", padrao*-1)\n",
    "\n",
    "# modelo com altura maxima de 2 das arvores\n",
    "regressor_xgb = xgb.XGBRegressor( max_depth = 2)\n",
    "#media de erros: \n",
    "max_arvore = cross_val_score(regressor_xgb, x_mpg_treino, y_mpg_treino, scoring='neg_root_mean_squared_error').mean()\n",
    "print(\"media de erros modelo com altura maxima de 2 das arvores:\", max_arvore*-1)\n",
    "\n",
    "# modelo usando o regressor gblinear\n",
    "regressor_xgb = xgb.XGBRegressor(booster = 'gblinear')\n",
    "#media de erros: \n",
    "regressor = cross_val_score(regressor_xgb, x_mpg_treino, y_mpg_treino, scoring='neg_root_mean_squared_error').mean()\n",
    "print(\"media de erros modelo usando o regressor gblinear:\", regressor*-1)\n",
    "\n",
    "# -> utilize o que tiver menor valor! "
   ]
  },
  {
   "cell_type": "code",
   "execution_count": 65,
   "metadata": {},
   "outputs": [
    {
     "data": {
      "text/plain": [
       "XGBRegressor(base_score=None, booster=None, callbacks=None,\n",
       "             colsample_bylevel=None, colsample_bynode=None,\n",
       "             colsample_bytree=None, early_stopping_rounds=None,\n",
       "             enable_categorical=False, eval_metric='rmsle', feature_types=None,\n",
       "             gamma=None, gpu_id=None, grow_policy=None, importance_type=None,\n",
       "             interaction_constraints=None, learning_rate=None, max_bin=None,\n",
       "             max_cat_threshold=None, max_cat_to_onehot=None,\n",
       "             max_delta_step=None, max_depth=None, max_leaves=None,\n",
       "             min_child_weight=None, missing=nan, monotone_constraints=None,\n",
       "             n_estimators=100, n_jobs=None, num_parallel_tree=None,\n",
       "             predictor=None, random_state=None, ...)"
      ]
     },
     "execution_count": 65,
     "metadata": {},
     "output_type": "execute_result"
    }
   ],
   "source": [
    "regressor_campeao = regressor_xgb\n",
    "regressor_campeao = xgb.XGBRegressor(eval_metric = 'rmsle')\n",
    "regressor_campeao.fit(x_mpg_treino, y_mpg_treino)\n"
   ]
  },
  {
   "cell_type": "code",
   "execution_count": 66,
   "metadata": {},
   "outputs": [
    {
     "data": {
      "text/plain": [
       "array([20.64906 , 28.883665, 16.86001 , 21.34499 , 20.39676 , 15.01599 ,\n",
       "       31.683403, 37.18937 , 15.918009, 13.198436], dtype=float32)"
      ]
     },
     "execution_count": 66,
     "metadata": {},
     "output_type": "execute_result"
    }
   ],
   "source": [
    "predicoes_mpg = regressor_campeao.predict(x_mpg_teste)\n",
    "predicoes_mpg[:10]"
   ]
  },
  {
   "cell_type": "code",
   "execution_count": 67,
   "metadata": {},
   "outputs": [
    {
     "data": {
      "text/plain": [
       "174    18.0\n",
       "359    28.1\n",
       "250    19.4\n",
       "274    20.3\n",
       "283    20.2\n",
       "232    16.0\n",
       "117    29.0\n",
       "348    37.7\n",
       "189    15.5\n",
       "106    12.0\n",
       "Name: mpg, dtype: float64"
      ]
     },
     "execution_count": 67,
     "metadata": {},
     "output_type": "execute_result"
    }
   ],
   "source": [
    "y_mpg_teste[:10]"
   ]
  },
  {
   "cell_type": "code",
   "execution_count": 78,
   "metadata": {},
   "outputs": [
    {
     "name": "stdout",
     "output_type": "stream",
     "text": [
      "erro ao quadrado: 8.665794944735287\n",
      "erro:  2.943772230444347\n"
     ]
    }
   ],
   "source": [
    "# calculando o erro  entre o que os valores queo modelo previu e os valores reais\n",
    "from sklearn.metrics import mean_squared_error\n",
    "import math\n",
    "\n",
    "mse = mean_squared_error(y_mpg_teste,predicoes_mpg)\n",
    "print('erro ao quadrado:', mse)\n",
    "\n",
    "rmse = math.sqrt(mse)\n",
    "print('erro: ', rmse)\n"
   ]
  },
  {
   "cell_type": "code",
   "execution_count": null,
   "metadata": {},
   "outputs": [],
   "source": []
  },
  {
   "cell_type": "code",
   "execution_count": null,
   "metadata": {},
   "outputs": [],
   "source": []
  },
  {
   "cell_type": "code",
   "execution_count": null,
   "metadata": {},
   "outputs": [],
   "source": []
  },
  {
   "cell_type": "code",
   "execution_count": null,
   "metadata": {},
   "outputs": [],
   "source": []
  }
 ],
 "metadata": {
  "kernelspec": {
   "display_name": "Python 3 (ipykernel)",
   "language": "python",
   "name": "python3"
  },
  "language_info": {
   "codemirror_mode": {
    "name": "ipython",
    "version": 3
   },
   "file_extension": ".py",
   "mimetype": "text/x-python",
   "name": "python",
   "nbconvert_exporter": "python",
   "pygments_lexer": "ipython3",
   "version": "3.9.7"
  },
  "vscode": {
   "interpreter": {
    "hash": "802a45e6ea1001ee05ac0fd63f937ec92fbe9ea23ac5247270696386f141362b"
   }
  }
 },
 "nbformat": 4,
 "nbformat_minor": 2
}
